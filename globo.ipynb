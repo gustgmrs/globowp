{
  "nbformat": 4,
  "nbformat_minor": 0,
  "metadata": {
    "colab": {
      "provenance": []
    },
    "kernelspec": {
      "name": "python3",
      "display_name": "Python 3"
    },
    "language_info": {
      "name": "python"
    }
  },
  "cells": [
    {
      "cell_type": "code",
      "execution_count": 19,
      "metadata": {
        "colab": {
          "base_uri": "https://localhost:8080/"
        },
        "id": "g9oi4oCUaHBi",
        "outputId": "5f4c057b-6490-4138-f164-8fe2fe0c9806"
      },
      "outputs": [
        {
          "output_type": "stream",
          "name": "stdout",
          "text": [
            "None\n"
          ]
        }
      ],
      "source": [
        "import requests\n",
        "from bs4 import BeautifulSoup\n",
        "import pandas as pd\n",
        "\n",
        "HEADERS = {\n",
        "    \"User-Agent\": \"Mozilla/5.0 (Windows NT 10.0; Win64; x64) AppleWebKit/537.36 (KHTML, like Gecko) Chrome/99.0.4844.51 Safari/537.36\"\n",
        "}\n",
        "\n",
        "\n",
        "def get_news():\n",
        "  url = 'https://www.globo.com/'\n",
        "\n",
        "  # Pegando os elementos HTM\n",
        "  page = requests.get(url, headers=HEADERS)\n",
        "  soup = BeautifulSoup(page.text, 'html.parser')\n",
        "\n",
        "  # Separando apenas as TAGs de Link\n",
        "  news = soup.find_all('a')\n",
        "\n",
        "  # Classes de Notícias\n",
        "  target_class1 = 'post__title'\n",
        "  target_class2 = 'post-multicontent__link--title__text'\n",
        "\n",
        "  # Montando uma lista de listas de Notícias\n",
        "  news_list = []\n",
        "  for new in news:\n",
        "      if (new.h2 != None) and (new.h2.get('class') != None):\n",
        "          if target_class1 in new.h2.get('class'):\n",
        "              link = new.get('href')\n",
        "              title = new.h2.text\n",
        "              lista = [title, link]\n",
        "              news_list.append(lista)\n",
        "          if target_class2 in new.h2.get('class'):\n",
        "              link = new.get('href')\n",
        "              title = new.h2.text\n",
        "              lista = [title, link]\n",
        "              news_list.append(lista)\n",
        "\n",
        "  return news_list\n",
        "    \n",
        "def csv_generator():\n",
        "  lista = get_news()\n",
        "\n",
        "  # Gerando o DataFrame\n",
        "  colunas = ['Título', 'Links']\n",
        "  news_df = pd.DataFrame(lista, columns=colunas)\n",
        "\n",
        "  # Gerando o CSV\n",
        "  news_df.to_csv('news.csv', index=False)\n",
        "\n",
        "csv_generator()"
      ]
    }
  ]
}